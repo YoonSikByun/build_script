{
 "cells": [
  {
   "cell_type": "code",
   "execution_count": 1,
   "metadata": {},
   "outputs": [
    {
     "name": "stdout",
     "output_type": "stream",
     "text": [
      "['/Users/yoonsikbyun/Documents/GitHub/airflow-yaml/airflow/1.13.0/python-test', '/Applications/Xcode.app/Contents/Developer/Library/Frameworks/Python3.framework/Versions/3.9/lib/python39.zip', '/Applications/Xcode.app/Contents/Developer/Library/Frameworks/Python3.framework/Versions/3.9/lib/python3.9', '/Applications/Xcode.app/Contents/Developer/Library/Frameworks/Python3.framework/Versions/3.9/lib/python3.9/lib-dynload', '', '/Users/yoonsikbyun/Library/Python/3.9/lib/python/site-packages', '/Applications/Xcode.app/Contents/Developer/Library/Frameworks/Python3.framework/Versions/3.9/lib/python3.9/site-packages']\n"
     ]
    }
   ],
   "source": [
    "import sys\n",
    "\n",
    "print(sys.path)\n",
    "\n"
   ]
  },
  {
   "cell_type": "code",
   "execution_count": null,
   "metadata": {},
   "outputs": [],
   "source": []
  },
  {
   "cell_type": "code",
   "execution_count": 2,
   "metadata": {},
   "outputs": [
    {
     "name": "stdout",
     "output_type": "stream",
     "text": [
      "['/Users/yoonsikbyun/Documents/GitHub/airflow-yaml/airflow/1.13.0/python-test', '/Applications/Xcode.app/Contents/Developer/Library/Frameworks/Python3.framework/Versions/3.9/lib/python39.zip', '/Applications/Xcode.app/Contents/Developer/Library/Frameworks/Python3.framework/Versions/3.9/lib/python3.9', '/Applications/Xcode.app/Contents/Developer/Library/Frameworks/Python3.framework/Versions/3.9/lib/python3.9/lib-dynload', '', '/Users/yoonsikbyun/Library/Python/3.9/lib/python/site-packages', '/Applications/Xcode.app/Contents/Developer/Library/Frameworks/Python3.framework/Versions/3.9/lib/python3.9/site-packages']\n"
     ]
    }
   ],
   "source": [
    "import sys\n",
    "print(sys.path)\n"
   ]
  },
  {
   "cell_type": "code",
   "execution_count": 1,
   "metadata": {},
   "outputs": [
    {
     "ename": "ImportError",
     "evalue": "cannot import name 'DAG' from 'airflow' (unknown location)",
     "output_type": "error",
     "traceback": [
      "\u001b[0;31m---------------------------------------------------------------------------\u001b[0m",
      "\u001b[0;31mImportError\u001b[0m                               Traceback (most recent call last)",
      "Cell \u001b[0;32mIn[1], line 3\u001b[0m\n\u001b[1;32m      1\u001b[0m \u001b[38;5;28;01mfrom\u001b[39;00m \u001b[38;5;21;01mdatetime\u001b[39;00m \u001b[38;5;28;01mimport\u001b[39;00m datetime, timedelta\n\u001b[1;32m      2\u001b[0m \u001b[38;5;28;01mfrom\u001b[39;00m \u001b[38;5;21;01mtextwrap\u001b[39;00m \u001b[38;5;28;01mimport\u001b[39;00m dedent\n\u001b[0;32m----> 3\u001b[0m \u001b[38;5;28;01mfrom\u001b[39;00m \u001b[38;5;21;01mairflow\u001b[39;00m \u001b[38;5;28;01mimport\u001b[39;00m DAG\n\u001b[1;32m      4\u001b[0m \u001b[38;5;28;01mfrom\u001b[39;00m \u001b[38;5;21;01mairflow\u001b[39;00m\u001b[38;5;21;01m.\u001b[39;00m\u001b[38;5;21;01moperators\u001b[39;00m\u001b[38;5;21;01m.\u001b[39;00m\u001b[38;5;21;01mbash\u001b[39;00m \u001b[38;5;28;01mimport\u001b[39;00m BashOperator\n\u001b[1;32m      5\u001b[0m \u001b[38;5;28;01mfrom\u001b[39;00m \u001b[38;5;21;01mairflow\u001b[39;00m\u001b[38;5;21;01m.\u001b[39;00m\u001b[38;5;21;01mproviders\u001b[39;00m\u001b[38;5;21;01m.\u001b[39;00m\u001b[38;5;21;01mcncf\u001b[39;00m\u001b[38;5;21;01m.\u001b[39;00m\u001b[38;5;21;01mkubernetes\u001b[39;00m\u001b[38;5;21;01m.\u001b[39;00m\u001b[38;5;21;01moperators\u001b[39;00m\u001b[38;5;21;01m.\u001b[39;00m\u001b[38;5;21;01mpod\u001b[39;00m \u001b[38;5;28;01mimport\u001b[39;00m KubernetesPodOperator\n",
      "\u001b[0;31mImportError\u001b[0m: cannot import name 'DAG' from 'airflow' (unknown location)"
     ]
    }
   ],
   "source": [
    "from datetime import datetime, timedelta\n",
    "from textwrap import dedent\n",
    "from airflow import DAG\n",
    "from airflow.operators.bash import BashOperator\n",
    "from airflow.providers.cncf.kubernetes.operators.pod import KubernetesPodOperator\n",
    "\n",
    "# [START default_args]\n",
    "default_args = {\n",
    "    'owner': 'admin',\n",
    "    'depends_on_past': False,\n",
    "    'email': ['admin@email.com'],\n",
    "    'email_on_failure': False,\n",
    "    'email_on_retry': False,\n",
    "    'retries': 0,\n",
    "    'retry_delay': timedelta(minutes=5),\n",
    "}\n",
    "# [END default_args]\n",
    "\n",
    "# [START instantiate_dag]\n",
    "with DAG(\n",
    "    'pipeline-c6YdSiZ7jZJmWYv1OWY18',\n",
    "    default_args=default_args,\n",
    "    description='',\n",
    "    schedule_interval='@once',\n",
    "    start_date=datetime(2024, 5, 1),\n",
    "    catchup=False,\n",
    "    tags=['admin', 'run_alll', 'project-NbUNpF5qp63vWvATg7Fs7', 'pipeline-c6YdSiZ7jZJmWYv1OWY18'],\n",
    "    is_paused_upon_creation=False\n",
    ") as dag:\n",
    "    # [END instantiate_dag]\n",
    "\n",
    "    # [START tasks]\n",
    "# Sleep Operator\n",
    "    Sleep_0 = BashOperator(\n",
    "        task_id='node--HReIzGvNGNLswkCzXC-v',\n",
    "        depends_on_past=False,\n",
    "        bash_command='sleep {{ params.sleep }}',\n",
    "        params={\"nodeKind\":\"Sleep\",\"pipelineId\":\"pipeline-c6YdSiZ7jZJmWYv1OWY18\",\"sleep\":\"10\"}\n",
    "    )\n",
    "# Sleep Operator\n",
    "    Sleep_1 = BashOperator(\n",
    "        task_id='node-ZFLhyutzPFY873TgufUsG',\n",
    "        depends_on_past=False,\n",
    "        bash_command='sleep {{ params.sleep }}',\n",
    "        params={\"nodeKind\":\"Sleep\",\"pipelineId\":\"pipeline-c6YdSiZ7jZJmWYv1OWY18\",\"sleep\":\"20\"}\n",
    "    )\n",
    "    # [END tasks]\n",
    "\n",
    "    # [START task pipe lines]\n",
    "    Sleep_0 >> Sleep_1\n",
    "    Sleep_1\n",
    "    Sleep_1\n",
    "    # [END task pipe lines]\n",
    "\n",
    "# [END tutorial]"
   ]
  }
 ],
 "metadata": {
  "kernelspec": {
   "display_name": "Python 3",
   "language": "python",
   "name": "python3"
  },
  "language_info": {
   "codemirror_mode": {
    "name": "ipython",
    "version": 3
   },
   "file_extension": ".py",
   "mimetype": "text/x-python",
   "name": "python",
   "nbconvert_exporter": "python",
   "pygments_lexer": "ipython3",
   "version": "3.9.6"
  }
 },
 "nbformat": 4,
 "nbformat_minor": 2
}
